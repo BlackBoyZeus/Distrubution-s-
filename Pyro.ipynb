{
  "nbformat": 4,
  "nbformat_minor": 0,
  "metadata": {
    "colab": {
      "provenance": [],
      "authorship_tag": "ABX9TyNKvoVDjhLupGNswx0akNoq",
      "include_colab_link": true
    },
    "kernelspec": {
      "name": "python3",
      "display_name": "Python 3"
    },
    "language_info": {
      "name": "python"
    }
  },
  "cells": [
    {
      "cell_type": "markdown",
      "metadata": {
        "id": "view-in-github",
        "colab_type": "text"
      },
      "source": [
        "<a href=\"https://colab.research.google.com/github/BlackBoyZeus/Distrubution-s-/blob/main/Pyro.ipynb\" target=\"_parent\"><img src=\"https://colab.research.google.com/assets/colab-badge.svg\" alt=\"Open In Colab\"/></a>"
      ]
    },
    {
      "cell_type": "code",
      "execution_count": 4,
      "metadata": {
        "colab": {
          "base_uri": "https://localhost:8080/"
        },
        "id": "i4B5yK33mgME",
        "outputId": "fbf5f4f5-bd61-4a6e-a343-415d480297ac"
      },
      "outputs": [
        {
          "output_type": "stream",
          "name": "stdout",
          "text": [
            "Collecting pyro-ppl\n",
            "  Downloading pyro_ppl-1.9.0-py3-none-any.whl (745 kB)\n",
            "\u001b[2K     \u001b[90m━━━━━━━━━━━━━━━━━━━━━━━━━━━━━━━━━━━━━━━━\u001b[0m \u001b[32m745.2/745.2 kB\u001b[0m \u001b[31m4.4 MB/s\u001b[0m eta \u001b[36m0:00:00\u001b[0m\n",
            "\u001b[?25hRequirement already satisfied: numpy>=1.7 in /usr/local/lib/python3.10/dist-packages (from pyro-ppl) (1.25.2)\n",
            "Requirement already satisfied: opt-einsum>=2.3.2 in /usr/local/lib/python3.10/dist-packages (from pyro-ppl) (3.3.0)\n",
            "Collecting pyro-api>=0.1.1 (from pyro-ppl)\n",
            "  Downloading pyro_api-0.1.2-py3-none-any.whl (11 kB)\n",
            "Requirement already satisfied: torch>=2.0 in /usr/local/lib/python3.10/dist-packages (from pyro-ppl) (2.2.1+cu121)\n",
            "Requirement already satisfied: tqdm>=4.36 in /usr/local/lib/python3.10/dist-packages (from pyro-ppl) (4.66.2)\n",
            "Requirement already satisfied: filelock in /usr/local/lib/python3.10/dist-packages (from torch>=2.0->pyro-ppl) (3.13.3)\n",
            "Requirement already satisfied: typing-extensions>=4.8.0 in /usr/local/lib/python3.10/dist-packages (from torch>=2.0->pyro-ppl) (4.10.0)\n",
            "Requirement already satisfied: sympy in /usr/local/lib/python3.10/dist-packages (from torch>=2.0->pyro-ppl) (1.12)\n",
            "Requirement already satisfied: networkx in /usr/local/lib/python3.10/dist-packages (from torch>=2.0->pyro-ppl) (3.2.1)\n",
            "Requirement already satisfied: jinja2 in /usr/local/lib/python3.10/dist-packages (from torch>=2.0->pyro-ppl) (3.1.3)\n",
            "Requirement already satisfied: fsspec in /usr/local/lib/python3.10/dist-packages (from torch>=2.0->pyro-ppl) (2023.6.0)\n",
            "Collecting nvidia-cuda-nvrtc-cu12==12.1.105 (from torch>=2.0->pyro-ppl)\n",
            "  Downloading nvidia_cuda_nvrtc_cu12-12.1.105-py3-none-manylinux1_x86_64.whl (23.7 MB)\n",
            "\u001b[2K     \u001b[90m━━━━━━━━━━━━━━━━━━━━━━━━━━━━━━━━━━━━━━━━\u001b[0m \u001b[32m23.7/23.7 MB\u001b[0m \u001b[31m36.8 MB/s\u001b[0m eta \u001b[36m0:00:00\u001b[0m\n",
            "\u001b[?25hCollecting nvidia-cuda-runtime-cu12==12.1.105 (from torch>=2.0->pyro-ppl)\n",
            "  Downloading nvidia_cuda_runtime_cu12-12.1.105-py3-none-manylinux1_x86_64.whl (823 kB)\n",
            "\u001b[2K     \u001b[90m━━━━━━━━━━━━━━━━━━━━━━━━━━━━━━━━━━━━━━━━\u001b[0m \u001b[32m823.6/823.6 kB\u001b[0m \u001b[31m50.6 MB/s\u001b[0m eta \u001b[36m0:00:00\u001b[0m\n",
            "\u001b[?25hCollecting nvidia-cuda-cupti-cu12==12.1.105 (from torch>=2.0->pyro-ppl)\n",
            "  Downloading nvidia_cuda_cupti_cu12-12.1.105-py3-none-manylinux1_x86_64.whl (14.1 MB)\n",
            "\u001b[2K     \u001b[90m━━━━━━━━━━━━━━━━━━━━━━━━━━━━━━━━━━━━━━━━\u001b[0m \u001b[32m14.1/14.1 MB\u001b[0m \u001b[31m37.4 MB/s\u001b[0m eta \u001b[36m0:00:00\u001b[0m\n",
            "\u001b[?25hCollecting nvidia-cudnn-cu12==8.9.2.26 (from torch>=2.0->pyro-ppl)\n",
            "  Downloading nvidia_cudnn_cu12-8.9.2.26-py3-none-manylinux1_x86_64.whl (731.7 MB)\n",
            "\u001b[2K     \u001b[90m━━━━━━━━━━━━━━━━━━━━━━━━━━━━━━━━━━━━━━━━\u001b[0m \u001b[32m731.7/731.7 MB\u001b[0m \u001b[31m659.7 kB/s\u001b[0m eta \u001b[36m0:00:00\u001b[0m\n",
            "\u001b[?25hCollecting nvidia-cublas-cu12==12.1.3.1 (from torch>=2.0->pyro-ppl)\n",
            "  Downloading nvidia_cublas_cu12-12.1.3.1-py3-none-manylinux1_x86_64.whl (410.6 MB)\n",
            "\u001b[2K     \u001b[90m━━━━━━━━━━━━━━━━━━━━━━━━━━━━━━━━━━━━━━━━\u001b[0m \u001b[32m410.6/410.6 MB\u001b[0m \u001b[31m2.1 MB/s\u001b[0m eta \u001b[36m0:00:00\u001b[0m\n",
            "\u001b[?25hCollecting nvidia-cufft-cu12==11.0.2.54 (from torch>=2.0->pyro-ppl)\n",
            "  Downloading nvidia_cufft_cu12-11.0.2.54-py3-none-manylinux1_x86_64.whl (121.6 MB)\n",
            "\u001b[2K     \u001b[90m━━━━━━━━━━━━━━━━━━━━━━━━━━━━━━━━━━━━━━━━\u001b[0m \u001b[32m121.6/121.6 MB\u001b[0m \u001b[31m5.6 MB/s\u001b[0m eta \u001b[36m0:00:00\u001b[0m\n",
            "\u001b[?25hCollecting nvidia-curand-cu12==10.3.2.106 (from torch>=2.0->pyro-ppl)\n",
            "  Downloading nvidia_curand_cu12-10.3.2.106-py3-none-manylinux1_x86_64.whl (56.5 MB)\n",
            "\u001b[2K     \u001b[90m━━━━━━━━━━━━━━━━━━━━━━━━━━━━━━━━━━━━━━━━\u001b[0m \u001b[32m56.5/56.5 MB\u001b[0m \u001b[31m8.8 MB/s\u001b[0m eta \u001b[36m0:00:00\u001b[0m\n",
            "\u001b[?25hCollecting nvidia-cusolver-cu12==11.4.5.107 (from torch>=2.0->pyro-ppl)\n",
            "  Downloading nvidia_cusolver_cu12-11.4.5.107-py3-none-manylinux1_x86_64.whl (124.2 MB)\n",
            "\u001b[2K     \u001b[90m━━━━━━━━━━━━━━━━━━━━━━━━━━━━━━━━━━━━━━━━\u001b[0m \u001b[32m124.2/124.2 MB\u001b[0m \u001b[31m7.5 MB/s\u001b[0m eta \u001b[36m0:00:00\u001b[0m\n",
            "\u001b[?25hCollecting nvidia-cusparse-cu12==12.1.0.106 (from torch>=2.0->pyro-ppl)\n",
            "  Downloading nvidia_cusparse_cu12-12.1.0.106-py3-none-manylinux1_x86_64.whl (196.0 MB)\n",
            "\u001b[2K     \u001b[90m━━━━━━━━━━━━━━━━━━━━━━━━━━━━━━━━━━━━━━━━\u001b[0m \u001b[32m196.0/196.0 MB\u001b[0m \u001b[31m4.6 MB/s\u001b[0m eta \u001b[36m0:00:00\u001b[0m\n",
            "\u001b[?25hCollecting nvidia-nccl-cu12==2.19.3 (from torch>=2.0->pyro-ppl)\n",
            "  Downloading nvidia_nccl_cu12-2.19.3-py3-none-manylinux1_x86_64.whl (166.0 MB)\n",
            "\u001b[2K     \u001b[90m━━━━━━━━━━━━━━━━━━━━━━━━━━━━━━━━━━━━━━━━\u001b[0m \u001b[32m166.0/166.0 MB\u001b[0m \u001b[31m4.8 MB/s\u001b[0m eta \u001b[36m0:00:00\u001b[0m\n",
            "\u001b[?25hCollecting nvidia-nvtx-cu12==12.1.105 (from torch>=2.0->pyro-ppl)\n",
            "  Downloading nvidia_nvtx_cu12-12.1.105-py3-none-manylinux1_x86_64.whl (99 kB)\n",
            "\u001b[2K     \u001b[90m━━━━━━━━━━━━━━━━━━━━━━━━━━━━━━━━━━━━━━━━\u001b[0m \u001b[32m99.1/99.1 kB\u001b[0m \u001b[31m10.7 MB/s\u001b[0m eta \u001b[36m0:00:00\u001b[0m\n",
            "\u001b[?25hRequirement already satisfied: triton==2.2.0 in /usr/local/lib/python3.10/dist-packages (from torch>=2.0->pyro-ppl) (2.2.0)\n",
            "Collecting nvidia-nvjitlink-cu12 (from nvidia-cusolver-cu12==11.4.5.107->torch>=2.0->pyro-ppl)\n",
            "  Downloading nvidia_nvjitlink_cu12-12.4.127-py3-none-manylinux2014_x86_64.whl (21.1 MB)\n",
            "\u001b[2K     \u001b[90m━━━━━━━━━━━━━━━━━━━━━━━━━━━━━━━━━━━━━━━━\u001b[0m \u001b[32m21.1/21.1 MB\u001b[0m \u001b[31m11.8 MB/s\u001b[0m eta \u001b[36m0:00:00\u001b[0m\n",
            "\u001b[?25hRequirement already satisfied: MarkupSafe>=2.0 in /usr/local/lib/python3.10/dist-packages (from jinja2->torch>=2.0->pyro-ppl) (2.1.5)\n",
            "Requirement already satisfied: mpmath>=0.19 in /usr/local/lib/python3.10/dist-packages (from sympy->torch>=2.0->pyro-ppl) (1.3.0)\n",
            "Installing collected packages: pyro-api, nvidia-nvtx-cu12, nvidia-nvjitlink-cu12, nvidia-nccl-cu12, nvidia-curand-cu12, nvidia-cufft-cu12, nvidia-cuda-runtime-cu12, nvidia-cuda-nvrtc-cu12, nvidia-cuda-cupti-cu12, nvidia-cublas-cu12, nvidia-cusparse-cu12, nvidia-cudnn-cu12, nvidia-cusolver-cu12, pyro-ppl\n",
            "Successfully installed nvidia-cublas-cu12-12.1.3.1 nvidia-cuda-cupti-cu12-12.1.105 nvidia-cuda-nvrtc-cu12-12.1.105 nvidia-cuda-runtime-cu12-12.1.105 nvidia-cudnn-cu12-8.9.2.26 nvidia-cufft-cu12-11.0.2.54 nvidia-curand-cu12-10.3.2.106 nvidia-cusolver-cu12-11.4.5.107 nvidia-cusparse-cu12-12.1.0.106 nvidia-nccl-cu12-2.19.3 nvidia-nvjitlink-cu12-12.4.127 nvidia-nvtx-cu12-12.1.105 pyro-api-0.1.2 pyro-ppl-1.9.0\n"
          ]
        }
      ],
      "source": [
        "%reset -s -f\n",
        "!pip install pyro-ppl"
      ]
    },
    {
      "cell_type": "code",
      "source": [
        "import logging\n",
        "import os\n",
        "\n",
        "import torch\n",
        "import numpy as np\n",
        "import pandas as pd\n",
        "import seaborn as sns\n",
        "import matplotlib.pyplot as plt\n",
        "\n",
        "import pyro"
      ],
      "metadata": {
        "id": "0MBhH-a3mqmn"
      },
      "execution_count": 5,
      "outputs": []
    },
    {
      "cell_type": "code",
      "source": [
        "smoke_test = ('CI' in os.environ)\n",
        "assert pyro.__version__.startswith('1.9.0')\n",
        "\n",
        "pyro.enable_validation(True)\n",
        "pyro.set_rng_seed(1)\n",
        "logging.basicConfig(format='%(message)s', level=logging.INFO)\n",
        "\n",
        "# Set matplotlib settings\n",
        "%matplotlib inline\n",
        "plt.style.use('default')"
      ],
      "metadata": {
        "id": "QXuNLmTzmzJT"
      },
      "execution_count": 6,
      "outputs": []
    },
    {
      "cell_type": "markdown",
      "source": [
        "We would like to explore the relationship between topographic heterogeneity of a nation as measured by the Terrain Ruggedness Index (variable rugged in the dataset) and its GDP per capita. In particular, it was noted by the authors of the original paper (“Ruggedness: The blessing of bad geography in Africa”) that terrain ruggedness or bad geography is related to poorer economic performance outside of Africa, but rugged terrains have had a reverse effect on income for African nations.\n",
        "\n",
        "Let us look at the data and investigate this relationship. We will be focusing on three features from the dataset:\n",
        "\n",
        "rugged: quantifies the Terrain Ruggedness Index;\n",
        "cont_africa: whether the given nation is in Africa;\n",
        "rgdppc_2000: Real GDP per capita for the year 2000;\n",
        "[44]:\n"
      ],
      "metadata": {
        "id": "cgvWxbB_nJjX"
      }
    },
    {
      "cell_type": "code",
      "source": [
        "DATA_URL = \"https://d2hg8soec8ck9v.cloudfront.net/datasets/rugged_data.csv\"\n",
        "data = pd.read_csv(DATA_URL, encoding=\"ISO-8859-1\")\n",
        "df = data[[\"cont_africa\", \"rugged\", \"rgdppc_2000\"]]"
      ],
      "metadata": {
        "id": "btt-QX5w2HVV"
      },
      "execution_count": 7,
      "outputs": []
    },
    {
      "cell_type": "markdown",
      "source": [
        "The response variable GDP is highly skewed, so we will log-transform it before proceeding."
      ],
      "metadata": {
        "id": "Xcy4BZLH2u0b"
      }
    },
    {
      "cell_type": "code",
      "source": [
        "df = df[np.isfinite(df.rgdppc_2000)]\n",
        "df.loc[:, \"rgdppc_2000\"] = np.log(df[\"rgdppc_2000\"])"
      ],
      "metadata": {
        "id": "fNeOkHOL2ToE"
      },
      "execution_count": 9,
      "outputs": []
    },
    {
      "cell_type": "markdown",
      "source": [
        "We then convert the Numpy array behind this dataframe to a torch.Tensor for analysis with PyTorch and Pyro.\n",
        "\n",
        "[46]:\n"
      ],
      "metadata": {
        "id": "e2wKaRVp2yBL"
      }
    },
    {
      "cell_type": "code",
      "source": [
        "train = torch.tensor(df.values, dtype=torch.float)\n",
        "is_cont_africa, ruggedness, log_gdp = train[:, 0], train[:, 1], train[:, 2]"
      ],
      "metadata": {
        "id": "9QIXodxT202s"
      },
      "execution_count": 10,
      "outputs": []
    },
    {
      "cell_type": "markdown",
      "source": [
        "Visualizing the data suggests that there is indeed a possible relationship between ruggedness and GDP, but that further analysis will be needed to confirm it. We will see how to do this in Pyro via Bayesian linear regression."
      ],
      "metadata": {
        "id": "f5l7LNrD2-AU"
      }
    },
    {
      "cell_type": "code",
      "source": [
        "\n",
        "fig, ax = plt.subplots(nrows=1, ncols=2, figsize=(12, 6), sharey=True)\n",
        "african_nations = df[df[\"cont_africa\"] == 1]\n",
        "non_african_nations = df[df[\"cont_africa\"] == 0]\n",
        "sns.scatterplot(x=non_african_nations[\"rugged\"],\n",
        "                y=non_african_nations[\"rgdppc_2000\"],\n",
        "                ax=ax[0])\n",
        "ax[0].set(xlabel=\"Terrain Ruggedness Index\",\n",
        "          ylabel=\"log GDP (2000)\",\n",
        "          title=\"Non African Nations\")\n",
        "sns.scatterplot(x=african_nations[\"rugged\"],\n",
        "                y=african_nations[\"rgdppc_2000\"],\n",
        "                ax=ax[1])\n",
        "ax[1].set(xlabel=\"Terrain Ruggedness Index\",\n",
        "          ylabel=\"log GDP (2000)\",\n",
        "          title=\"African Nations\");"
      ],
      "metadata": {
        "colab": {
          "base_uri": "https://localhost:8080/",
          "height": 361
        },
        "id": "-_sMzt_b3Bah",
        "outputId": "85c8397b-8ffb-43e5-f3aa-357873b0474f"
      },
      "execution_count": 13,
      "outputs": [
        {
          "output_type": "display_data",
          "data": {
            "text/plain": [
              "<Figure size 1200x600 with 2 Axes>"
            ],
            "image/png": "[encoded data removed]"
          },
          "metadata": {}
        }
      ]
    },
    {
      "cell_type": "code",
      "source": [
        "import pyro.distributions as dist\n",
        "import pyro.distributions.constraints as constraints\n",
        "\n",
        "def simple_model(is_cont_africa, ruggedness, log_gdp=None):\n",
        "    a = pyro.param(\"a\", lambda: torch.randn(()))\n",
        "    b_a = pyro.param(\"bA\", lambda: torch.randn(()))\n",
        "    b_r = pyro.param(\"bR\", lambda: torch.randn(()))\n",
        "    b_ar = pyro.param(\"bAR\", lambda: torch.randn(()))\n",
        "    sigma = pyro.param(\"sigma\", lambda: torch.ones(()), constraint=constraints.positive)\n",
        "\n",
        "    mean = a + b_a * is_cont_africa + b_r * ruggedness + b_ar * is_cont_africa * ruggedness\n",
        "\n",
        "    with pyro.plate(\"data\", len(ruggedness)):\n",
        "        return pyro.sample(\"obs\", dist.Normal(mean, sigma), obs=log_gdp)\n",
        "\n",
        "pyro.render_model(simple_model, model_args=(is_cont_africa, ruggedness, log_gdp), render_distributions=True)"
      ],
      "metadata": {
        "colab": {
          "base_uri": "https://localhost:8080/",
          "height": 153
        },
        "id": "_3qF7RaH4FG1",
        "outputId": "cc3684f7-230d-4e30-8d79-7d23c3170fe6"
      },
      "execution_count": 14,
      "outputs": [
        {
          "output_type": "execute_result",
          "data": {
            "image/svg+xml": "<?xml version=\"1.0\" encoding=\"UTF-8\" standalone=\"no\"?>\n<!DOCTYPE svg PUBLIC \"-//W3C//DTD SVG 1.1//EN\"\n \"http://www.w3.org/Graphics/SVG/1.1/DTD/svg11.dtd\">\n<!-- Generated by graphviz version 2.43.0 (0)\n -->\n<!-- Title: %3 Pages: 1 -->\n<svg width=\"188pt\" height=\"99pt\"\n viewBox=\"0.00 0.00 188.00 99.00\" xmlns=\"http://www.w3.org/2000/svg\" xmlns:xlink=\"http://www.w3.org/1999/xlink\">\n<g id=\"graph0\" class=\"graph\" transform=\"scale(1 1) rotate(0) translate(4 95)\">\n<title>%3</title>\n<polygon fill=\"white\" stroke=\"transparent\" points=\"-4,4 -4,-95 184,-95 184,4 -4,4\"/>\n<g id=\"clust1\" class=\"cluster\">\n<title>cluster_data</title>\n<polygon fill=\"none\" stroke=\"black\" points=\"8,-8 8,-83 78,-83 78,-8 8,-8\"/>\n<text text-anchor=\"middle\" x=\"58.5\" y=\"-15.8\" font-family=\"Times,serif\" font-size=\"14.00\">data</text>\n</g>\n<!-- obs -->\n<g id=\"node1\" class=\"node\">\n<title>obs</title>\n<ellipse fill=\"gray\" stroke=\"black\" cx=\"43\" cy=\"-57\" rx=\"27\" ry=\"18\"/>\n<text text-anchor=\"middle\" x=\"43\" y=\"-53.3\" font-family=\"Times,serif\" font-size=\"14.00\">obs</text>\n</g>\n<!-- distribution_description_node -->\n<g id=\"node2\" class=\"node\">\n<title>distribution_description_node</title>\n<text text-anchor=\"start\" x=\"96\" y=\"-53.3\" font-family=\"Times,serif\" font-size=\"14.00\">obs ~ Normal</text>\n</g>\n</g>\n</svg>\n",
            "text/plain": [
              "<graphviz.graphs.Digraph at 0x7dcd7bdf9cc0>"
            ]
          },
          "metadata": {},
          "execution_count": 14
        }
      ]
    },
    {
      "cell_type": "markdown",
      "source": [
        "\n",
        "The above plot does not show the model parameters a, b_a, b_r, b_ar, and sigma. We can set render_params=True to render the model parameters."
      ],
      "metadata": {
        "id": "T6suKjZh4eMT"
      }
    },
    {
      "cell_type": "code",
      "source": [
        "pyro.render_model(simple_model, model_args=(is_cont_africa, ruggedness, log_gdp), render_distributions=True, render_params=True)"
      ],
      "metadata": {
        "colab": {
          "base_uri": "https://localhost:8080/",
          "height": 310
        },
        "id": "9hD-HWtR4WHI",
        "outputId": "202b8824-f42a-434e-862b-1804151d8936"
      },
      "execution_count": 15,
      "outputs": [
        {
          "output_type": "execute_result",
          "data": {
            "image/svg+xml": "<?xml version=\"1.0\" encoding=\"UTF-8\" standalone=\"no\"?>\n<!DOCTYPE svg PUBLIC \"-//W3C//DTD SVG 1.1//EN\"\n \"http://www.w3.org/Graphics/SVG/1.1/DTD/svg11.dtd\">\n<!-- Generated by graphviz version 2.43.0 (0)\n -->\n<!-- Title: %3 Pages: 1 -->\n<svg width=\"435pt\" height=\"217pt\"\n viewBox=\"0.00 0.00 435.00 217.00\" xmlns=\"http://www.w3.org/2000/svg\" xmlns:xlink=\"http://www.w3.org/1999/xlink\">\n<g id=\"graph0\" class=\"graph\" transform=\"scale(1 1) rotate(0) translate(4 213)\">\n<title>%3</title>\n<polygon fill=\"white\" stroke=\"transparent\" points=\"-4,4 -4,-213 431,-213 431,4 -4,4\"/>\n<g id=\"clust1\" class=\"cluster\">\n<title>cluster_data</title>\n<polygon fill=\"none\" stroke=\"black\" points=\"42.5,-8 42.5,-83 112.5,-83 112.5,-8 42.5,-8\"/>\n<text text-anchor=\"middle\" x=\"93\" y=\"-15.8\" font-family=\"Times,serif\" font-size=\"14.00\">data</text>\n</g>\n<!-- a -->\n<g id=\"node1\" class=\"node\">\n<title>a</title>\n<polygon fill=\"white\" stroke=\"transparent\" points=\"7,-167.5 0,-167.5 0,-152.5 7,-152.5 7,-167.5\"/>\n<text text-anchor=\"middle\" x=\"3.5\" y=\"-156.3\" font-family=\"Times,serif\" font-size=\"14.00\">a</text>\n</g>\n<!-- obs -->\n<g id=\"node6\" class=\"node\">\n<title>obs</title>\n<ellipse fill=\"gray\" stroke=\"black\" cx=\"77.5\" cy=\"-57\" rx=\"27\" ry=\"18\"/>\n<text text-anchor=\"middle\" x=\"77.5\" y=\"-53.3\" font-family=\"Times,serif\" font-size=\"14.00\">obs</text>\n</g>\n<!-- a&#45;&gt;obs -->\n<g id=\"edge1\" class=\"edge\">\n<title>a&#45;&gt;obs</title>\n<path fill=\"none\" stroke=\"black\" d=\"M4.07,-152.3C5.17,-142.55 8.25,-124.17 16.5,-111 25.07,-97.32 38.27,-85.23 50.19,-76.07\"/>\n<polygon fill=\"black\" stroke=\"black\" points=\"52.57,-78.66 58.57,-69.93 48.43,-73.02 52.57,-78.66\"/>\n</g>\n<!-- bAR -->\n<g id=\"node2\" class=\"node\">\n<title>bAR</title>\n<polygon fill=\"white\" stroke=\"transparent\" points=\"51.5,-167.5 25.5,-167.5 25.5,-152.5 51.5,-152.5 51.5,-167.5\"/>\n<text text-anchor=\"middle\" x=\"38.5\" y=\"-156.3\" font-family=\"Times,serif\" font-size=\"14.00\">bAR</text>\n</g>\n<!-- bAR&#45;&gt;obs -->\n<g id=\"edge4\" class=\"edge\">\n<title>bAR&#45;&gt;obs</title>\n<path fill=\"none\" stroke=\"black\" d=\"M41.06,-152.37C46.31,-138.76 58.57,-107.02 67.42,-84.1\"/>\n<polygon fill=\"black\" stroke=\"black\" points=\"70.76,-85.18 71.09,-74.59 64.23,-82.66 70.76,-85.18\"/>\n</g>\n<!-- bR -->\n<g id=\"node3\" class=\"node\">\n<title>bR</title>\n<polygon fill=\"white\" stroke=\"transparent\" points=\"85.5,-167.5 69.5,-167.5 69.5,-152.5 85.5,-152.5 85.5,-167.5\"/>\n<text text-anchor=\"middle\" x=\"77.5\" y=\"-156.3\" font-family=\"Times,serif\" font-size=\"14.00\">bR</text>\n</g>\n<!-- bR&#45;&gt;obs -->\n<g id=\"edge3\" class=\"edge\">\n<title>bR&#45;&gt;obs</title>\n<path fill=\"none\" stroke=\"black\" d=\"M77.5,-152.37C77.5,-139.04 77.5,-108.29 77.5,-85.49\"/>\n<polygon fill=\"black\" stroke=\"black\" points=\"81,-85.36 77.5,-75.36 74,-85.36 81,-85.36\"/>\n</g>\n<!-- bA -->\n<g id=\"node4\" class=\"node\">\n<title>bA</title>\n<polygon fill=\"white\" stroke=\"transparent\" points=\"121,-167.5 104,-167.5 104,-152.5 121,-152.5 121,-167.5\"/>\n<text text-anchor=\"middle\" x=\"112.5\" y=\"-156.3\" font-family=\"Times,serif\" font-size=\"14.00\">bA</text>\n</g>\n<!-- bA&#45;&gt;obs -->\n<g id=\"edge2\" class=\"edge\">\n<title>bA&#45;&gt;obs</title>\n<path fill=\"none\" stroke=\"black\" d=\"M110.2,-152.37C105.49,-138.76 94.49,-107.02 86.54,-84.1\"/>\n<polygon fill=\"black\" stroke=\"black\" points=\"89.83,-82.9 83.25,-74.59 83.22,-85.19 89.83,-82.9\"/>\n</g>\n<!-- sigma -->\n<g id=\"node5\" class=\"node\">\n<title>sigma</title>\n<polygon fill=\"white\" stroke=\"transparent\" points=\"173.5,-167.5 139.5,-167.5 139.5,-152.5 173.5,-152.5 173.5,-167.5\"/>\n<text text-anchor=\"middle\" x=\"156.5\" y=\"-156.3\" font-family=\"Times,serif\" font-size=\"14.00\">sigma</text>\n</g>\n<!-- sigma&#45;&gt;obs -->\n<g id=\"edge5\" class=\"edge\">\n<title>sigma&#45;&gt;obs</title>\n<path fill=\"none\" stroke=\"black\" d=\"M153.68,-152.44C149.41,-142.85 140.7,-124.67 130.5,-111 121.9,-99.48 110.86,-88.03 101.08,-78.74\"/>\n<polygon fill=\"black\" stroke=\"black\" points=\"103.29,-76.02 93.57,-71.79 98.53,-81.15 103.29,-76.02\"/>\n</g>\n<!-- distribution_description_node -->\n<g id=\"node7\" class=\"node\">\n<title>distribution_description_node</title>\n<text text-anchor=\"start\" x=\"200\" y=\"-193.8\" font-family=\"Times,serif\" font-size=\"14.00\">obs ~ Normal</text>\n<text text-anchor=\"start\" x=\"200\" y=\"-178.8\" font-family=\"Times,serif\" font-size=\"14.00\">a : Real()</text>\n<text text-anchor=\"start\" x=\"200\" y=\"-163.8\" font-family=\"Times,serif\" font-size=\"14.00\">bA : Real()</text>\n<text text-anchor=\"start\" x=\"200\" y=\"-148.8\" font-family=\"Times,serif\" font-size=\"14.00\">bR : Real()</text>\n<text text-anchor=\"start\" x=\"200\" y=\"-133.8\" font-family=\"Times,serif\" font-size=\"14.00\">bAR : Real()</text>\n<text text-anchor=\"start\" x=\"200\" y=\"-118.8\" font-family=\"Times,serif\" font-size=\"14.00\">sigma : GreaterThan(lower_bound=0.0)</text>\n</g>\n</g>\n</svg>\n",
            "text/plain": [
              "<graphviz.graphs.Digraph at 0x7dcd7bdfa950>"
            ]
          },
          "metadata": {},
          "execution_count": 15
        }
      ]
    }
  ]
}